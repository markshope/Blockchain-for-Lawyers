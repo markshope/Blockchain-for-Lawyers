{
  "nbformat": 4,
  "nbformat_minor": 0,
  "metadata": {
    "colab": {
      "name": "Blockchain for Lawyers - Simple Blockchain with Timestamp.ipynb",
      "version": "0.3.2",
      "provenance": [],
      "collapsed_sections": [],
      "include_colab_link": true
    },
    "kernelspec": {
      "name": "python3",
      "display_name": "Python 3"
    }
  },
  "cells": [
    {
      "cell_type": "markdown",
      "metadata": {
        "id": "view-in-github",
        "colab_type": "text"
      },
      "source": [
        "<a href=\"https://colab.research.google.com/github/markshope/Blockchain-for-Lawyers/blob/master/Blockchain_for_Lawyers_Simple_Blockchain_with_Timestamp.ipynb\" target=\"_parent\"><img src=\"https://colab.research.google.com/assets/colab-badge.svg\" alt=\"Open In Colab\"/></a>"
      ]
    },
    {
      "metadata": {
        "id": "ZK2WTM_3QUgA",
        "colab_type": "code",
        "colab": {}
      },
      "cell_type": "code",
      "source": [
        "import datetime #generates timestamps\n",
        "import hashlib #contains hashing algorithms; a hash is a function that converts data into a number within a certain range.\n",
        "\n",
        "class Block:\n",
        "    blockNo = 0 #number of the block\n",
        "    data = None #what data is stored in this block\n",
        "    next = None #pointer to the next block\n",
        "    hash = None #hash (ID) of this block\n",
        "    nonce = 0 #a nonce is a number only used once; the nonce is the number that blockchain miners are solving for\n",
        "    previous_hash = 0x0 #hash of the previous block in the chain\n",
        "    start_time = 0 #start time\n",
        "    timestamp = 0 #timestamp\n",
        "\n",
        "    def __init__(self, data): #initializing block; we initialize a block by storing data in it\n",
        "        self.data = data\n",
        "\n",
        "    def hash(self):\n",
        "        h = hashlib.sha256() #SHA-256 is a hashing algorithm that generates a 256-bit signature\n",
        "        h.update( #the input to the SHA-256 algorithm consists of 5 block attributes: nonce, data, previous hash, timestamp, and block no.\n",
        "        str(self.nonce).encode('utf-8') +\n",
        "        str(self.data).encode('utf-8') +\n",
        "        str(self.previous_hash).encode('utf-8') +\n",
        "        str(self.timestamp).encode('utf-8') +\n",
        "        str(self.blockNo).encode('utf-8')\n",
        "        )\n",
        "        return h.hexdigest() #returns a hexademical string\n",
        "\n",
        "    def __str__(self): #prints the block data\n",
        "        hashTime = self.timestamp - self.start_time\n",
        "        return ( \"Block Hash: \" + str(self.hash()) +\n",
        "                 \"\\nBlockNo: \" + str(self.blockNo) +\n",
        "                 \"\\nBlock Data: \" + str(self.data) +\n",
        "                 \"\\nNonce: \" + str(self.nonce) +\n",
        "                 \"\\nTimestamp: \" + str(self.timestamp) +\n",
        "                 \"\\nHashTime: \" + str(hashTime) +\n",
        "                 \"\\n--------------\")\n",
        "\n",
        "class Blockchain:\n",
        "\n",
        "    diff = 20 #mining difficulty\n",
        "    maxNonce = 2**32 #this is the maximum number that can be stored in a 32-bit number\n",
        "    target = 2 ** (256-diff) #target hash, for mining\n",
        "\n",
        "    block = Block(\"Genesis\") #generates the first block in the blockchain, the so-called 'Genesis block'\n",
        "    head = block #sets the Genesis block as the head of our blockchain\n",
        "\n",
        "    def add(self, block, start_time): #adds a given block to the chain of blocks\n",
        "\n",
        "        block.previous_hash = self.block.hash() #sets the hash of a given block as our new block's previous hash\n",
        "        block.blockNo = self.block.blockNo + 1 #sets the block number of our new block to the given block number + 1\n",
        "        \n",
        "        block.timestamp = datetime.datetime.now() #sets the timestamp\n",
        "        block.start_time = start_time\n",
        "\n",
        "        self.block.next = block #sets the next block equal to itself\n",
        "        self.block = self.block.next\n",
        "\n",
        "    def mine(self, block): #determines whether we can add a given block to the blockchain\n",
        "        start_time = datetime.datetime.now()\n",
        "        print(\"Start:\", start_time)\n",
        "        for n in range(self.maxNonce):\n",
        "            if int(block.hash(), 16) <= self.target: #checks whether the value of the given block's hash is less than our target value\n",
        "                self.add(block, start_time) #if it is, add the block to the chain, plus the start time\n",
        "                print(block)\n",
        "                break\n",
        "            else:\n",
        "                block.nonce += 1\n",
        "\n",
        "blockchain = Blockchain() # initialize blockchain\n",
        "\n",
        "print(blockchain.head) #print out Genesis block\n",
        "\n",
        "for n in range(10): #mine 10 blocks then print\n",
        "    blockchain.mine(Block(\"Block \" + str(n+1)))\n",
        "\n",
        "while blockchain.head != None:\n",
        "    blockchain.head = blockchain.head.next"
      ],
      "execution_count": 0,
      "outputs": []
    }
  ]
}